{
 "cells": [
  {
   "cell_type": "markdown",
   "id": "b65666d8",
   "metadata": {},
   "source": [
    "# Module 3: Data Structures Assignments\n",
    "## Lesson 3.1: Lists\n",
    "### Assignment 1: Creating and Accessing Lists\n",
    "\n",
    "Create a list of the first 20 positive integers. Print the list."
   ]
  },
  {
   "cell_type": "code",
   "execution_count": 2,
   "id": "c961cac7",
   "metadata": {},
   "outputs": [
    {
     "name": "stdout",
     "output_type": "stream",
     "text": [
      "[1, 2, 3, 4, 5, 6, 7, 8, 9, 10, 11, 12, 13, 14, 15, 16, 17, 18, 19, 20]\n"
     ]
    }
   ],
   "source": [
    "l=list(range(1, 21))\n",
    "print(l)"
   ]
  },
  {
   "cell_type": "markdown",
   "id": "9582b2fa",
   "metadata": {},
   "source": [
    "### Assignment 2: Accessing List Elements\n",
    "\n",
    "Print the first, middle, and last elements of the list created in Assignment 1."
   ]
  },
  {
   "cell_type": "code",
   "execution_count": 3,
   "id": "b3211870",
   "metadata": {},
   "outputs": [
    {
     "name": "stdout",
     "output_type": "stream",
     "text": [
      "First eelement is 1\n",
      "The middle elemenet is:- 11\n",
      "Last element is:- 20\n"
     ]
    }
   ],
   "source": [
    "print(\"First eelement is\", l[0])\n",
    "print(\"The middle elemenet is:-\", l[len(l)//2])\n",
    "print(\"Last element is:-\", l[-1])\n"
   ]
  },
  {
   "cell_type": "markdown",
   "id": "ec5b1c72",
   "metadata": {},
   "source": [
    "### Assignment 3: List Slicing\n",
    "\n",
    "Print the first five elements, the last five elements, and the elements from index 5 to 15 of the list created in Assignment 1."
   ]
  },
  {
   "cell_type": "code",
   "execution_count": 4,
   "id": "01b21142",
   "metadata": {},
   "outputs": [
    {
     "name": "stdout",
     "output_type": "stream",
     "text": [
      "First five elements [1, 2, 3, 4, 5]\n",
      "Last five elements:- [16, 17, 18, 19, 20]\n",
      "Elements from 5 to 15 [6, 7, 8, 9, 10, 11, 12, 13, 14, 15, 16]\n"
     ]
    }
   ],
   "source": [
    "print(\"First five elements\", l[:5])\n",
    "print(\"Last five elements:-\", l[-5:])\n",
    "print(\"Elements from 5 to 15\", l[5:16])"
   ]
  },
  {
   "cell_type": "markdown",
   "id": "f31d0059",
   "metadata": {},
   "source": [
    "### Assignment 4: List Comprehensions\n",
    "\n",
    "Create a new list containing the squares of the first 10 positive integers using a list comprehension. Print the new list."
   ]
  },
  {
   "cell_type": "code",
   "execution_count": 5,
   "id": "0ddb33ec",
   "metadata": {},
   "outputs": [
    {
     "name": "stdout",
     "output_type": "stream",
     "text": [
      "[1, 4, 9, 16, 25, 36, 49, 64, 81, 100]\n"
     ]
    }
   ],
   "source": [
    "sq=[x**2 for x in range(1, 11)]\n",
    "print(sq)\n"
   ]
  },
  {
   "cell_type": "markdown",
   "id": "03fd9b8b",
   "metadata": {},
   "source": [
    "### Assignment 5: Filtering Lists\n",
    "\n",
    "Create a new list containing only the even numbers from the list created in Assignment 1 using a list comprehension. Print the new list."
   ]
  },
  {
   "cell_type": "code",
   "execution_count": 6,
   "id": "a72f5970",
   "metadata": {},
   "outputs": [
    {
     "name": "stdout",
     "output_type": "stream",
     "text": [
      "[2, 4, 6, 8, 10, 12, 14, 16, 18, 20]\n"
     ]
    }
   ],
   "source": [
    "nl=[i for i in l if i%2==0]\n",
    "print(nl)"
   ]
  },
  {
   "cell_type": "markdown",
   "id": "cdb7aa49",
   "metadata": {},
   "source": [
    "### Assignment 6: List Methods\n",
    "\n",
    "Create a list of random numbers and sort it in ascending and descending order. Remove the duplicates from the list and print the modified list."
   ]
  },
  {
   "cell_type": "code",
   "execution_count": 7,
   "id": "65c385b0",
   "metadata": {},
   "outputs": [
    {
     "name": "stdout",
     "output_type": "stream",
     "text": [
      "[13, 20, 14, 15, 2, 12, 1, 18, 12, 18, 2, 6, 12, 5, 9]\n",
      "[1, 2, 2, 5, 6, 9, 12, 12, 12, 13, 14, 15, 18, 18, 20]\n",
      "[20, 18, 18, 15, 14, 13, 12, 12, 12, 9, 6, 5, 2, 2, 1]\n",
      "{1, 2, 5, 6, 9, 12, 13, 14, 15, 18, 20}\n"
     ]
    }
   ],
   "source": [
    "import random\n",
    "l=[random.randint(1, 20) for i in range(15)]\n",
    "print(l)\n",
    "print(sorted(l))\n",
    "print(sorted(l, reverse=True))\n",
    "print(set(l))\n"
   ]
  },
  {
   "cell_type": "markdown",
   "id": "83260881",
   "metadata": {},
   "source": [
    "### Assignment 7: Nested Lists\n",
    "\n",
    "Create a nested list representing a 3x3 matrix and print the matrix. Access and print the element at the second row and third column."
   ]
  },
  {
   "cell_type": "code",
   "execution_count": 11,
   "id": "f66d2aa3",
   "metadata": {},
   "outputs": [
    {
     "name": "stdout",
     "output_type": "stream",
     "text": [
      "Matrix:-\n",
      "[1, 2, 3]\n",
      "[4, 5, 6]\n",
      "[7, 8, 9]\n",
      "6\n"
     ]
    }
   ],
   "source": [
    "mat=[[1, 2, 3], \n",
    "     [4, 5, 6],\n",
    "     [7, 8, 9]]\n",
    "print(\"Matrix:-\")\n",
    "for row in mat:\n",
    "    print(row)\n",
    "print(mat[1][2])"
   ]
  },
  {
   "cell_type": "markdown",
   "id": "8ac2a9d4",
   "metadata": {},
   "source": [
    "### Assignment 8: List of Dictionaries\n",
    "\n",
    "Create a list of dictionaries where each dictionary represents a student with keys 'name' and 'score'. Sort the list of dictionaries by the 'score' in descending order and print the sorted list."
   ]
  },
  {
   "cell_type": "code",
   "execution_count": 13,
   "id": "e56acecb",
   "metadata": {},
   "outputs": [
    {
     "name": "stdout",
     "output_type": "stream",
     "text": [
      "{'name': 'Alic', 'score': 98}\n",
      "{'name': 'Alice', 'score': 88}\n",
      "{'name': 'bob', 'score': 58}\n"
     ]
    }
   ],
   "source": [
    "data=[{\"name\":\"Alice\", \"score\":88},\n",
    "      {\"name\":\"bob\", \"score\":58},\n",
    "      {\"name\":\"Alic\", \"score\":98}]\n",
    "s=sorted(data, key= lambda x:x[\"score\"], reverse=True)\n",
    "for d in s:\n",
    "    print(d)"
   ]
  },
  {
   "cell_type": "markdown",
   "id": "b2c6f48d",
   "metadata": {},
   "source": [
    "### Assignment 9: Matrix Transposition\n",
    "\n",
    "Write a function that takes a 3x3 matrix (nested list) as input and returns its transpose. Print the original and transposed matrices."
   ]
  },
  {
   "cell_type": "code",
   "execution_count": 15,
   "id": "9cd41098",
   "metadata": {},
   "outputs": [
    {
     "name": "stdout",
     "output_type": "stream",
     "text": [
      "org:-\n",
      "[1, 2, 3]\n",
      "[4, 5, 6]\n",
      "[7, 8, 9]\n",
      "Transpose:-\n",
      "[1, 4, 7]\n",
      "[2, 5, 8]\n",
      "[3, 6, 9]\n"
     ]
    }
   ],
   "source": [
    "def transpose(mat):\n",
    "    t=[[mat[j][i] for j in range(len(mat))] for i in range(len(mat[0]))]\n",
    "    for ts in t:\n",
    "        print(ts)\n",
    "print(\"org:-\")\n",
    "for r in mat:\n",
    "    print(r)\n",
    "print(\"Transpose:-\")\n",
    "transpose(mat)\n"
   ]
  },
  {
   "cell_type": "markdown",
   "id": "4bd1262b",
   "metadata": {},
   "source": [
    "### Assignment 10: Flattening a Nested List\n",
    "\n",
    "Write a function that takes a nested list and flattens it into a single list. Print the original and flattened lists."
   ]
  },
  {
   "cell_type": "code",
   "execution_count": 17,
   "id": "f81085d9",
   "metadata": {},
   "outputs": [
    {
     "name": "stdout",
     "output_type": "stream",
     "text": [
      "[1, 2, 3, 4, 5, 6, 7, 8, 9]\n"
     ]
    }
   ],
   "source": [
    "fl=[item for row in mat for item  in row]\n",
    "print(fl)"
   ]
  },
  {
   "cell_type": "markdown",
   "id": "cc11986d",
   "metadata": {},
   "source": [
    "### Assignment 11: List Manipulation\n",
    "\n",
    "Create a list of the first 10 positive integers. Remove the elements at indices 2, 4, and 6, and insert the element '99' at index 5. Print the modified list."
   ]
  },
  {
   "cell_type": "code",
   "execution_count": 20,
   "id": "7070d16a",
   "metadata": {},
   "outputs": [
    {
     "name": "stdout",
     "output_type": "stream",
     "text": [
      "[1, 2, 3, 4, 5, 6, 7, 8, 9, 10]\n",
      "[1, 2, 4, 5, 7, 99, 8, 10]\n"
     ]
    }
   ],
   "source": [
    "lst=list(range(1, 11))\n",
    "print(lst)\n",
    "del[lst[2]]\n",
    "del(lst[4])\n",
    "del(lst[6])\n",
    "lst.insert(5, 99)\n",
    "print(lst)"
   ]
  },
  {
   "cell_type": "markdown",
   "id": "5502251d",
   "metadata": {},
   "source": [
    "### Assignment 12: List Zipping\n",
    "\n",
    "Create two lists of the same length. Use the `zip` function to combine these lists into a list of tuples and print the result."
   ]
  },
  {
   "cell_type": "code",
   "execution_count": 21,
   "id": "3d695ab5",
   "metadata": {},
   "outputs": [
    {
     "name": "stdout",
     "output_type": "stream",
     "text": [
      "[('a', 1), ('b', 2), ('c', 3), ('d', 4)]\n"
     ]
    }
   ],
   "source": [
    "l1=[\"a\", \"b\", \"c\", \"d\"]\n",
    "l2=[1, 2, 3,4]\n",
    "l3=list(zip(l1, l2))\n",
    "print(l3)"
   ]
  },
  {
   "cell_type": "markdown",
   "id": "c7892dc0",
   "metadata": {},
   "source": [
    "### Assignment 13: List Reversal\n",
    "\n",
    "Write a function that takes a list and returns a new list with the elements in reverse order. Print the original and reversed lists."
   ]
  },
  {
   "cell_type": "code",
   "execution_count": 22,
   "id": "cd51faec",
   "metadata": {},
   "outputs": [
    {
     "name": "stdout",
     "output_type": "stream",
     "text": [
      "['d', 'c', 'b', 'a']\n"
     ]
    }
   ],
   "source": [
    "print(l1[::-1])"
   ]
  },
  {
   "cell_type": "markdown",
   "id": "37705c32",
   "metadata": {},
   "source": [
    "### Assignment 14: List Rotation\n",
    "\n",
    "Write a function that rotates a list by n positions. Print the original and rotated lists."
   ]
  },
  {
   "cell_type": "code",
   "execution_count": 23,
   "id": "87fb9aee",
   "metadata": {},
   "outputs": [
    {
     "name": "stdout",
     "output_type": "stream",
     "text": [
      "['c', 'd', 'a', 'b']\n"
     ]
    }
   ],
   "source": [
    "def rotate(ls, n):\n",
    "    return ls[n:]+ls[:n]\n",
    "print(rotate(l1, 2))"
   ]
  },
  {
   "cell_type": "markdown",
   "id": "90536ae0",
   "metadata": {},
   "source": [
    "### Assignment 15: List Intersection\n",
    "\n",
    "Write a function that takes two lists and returns a new list containing only the elements that are present in both lists. Print the intersected list."
   ]
  },
  {
   "cell_type": "code",
   "execution_count": 24,
   "id": "14fc4edb",
   "metadata": {},
   "outputs": [
    {
     "name": "stdout",
     "output_type": "stream",
     "text": [
      "[1, 9, 8, 7]\n"
     ]
    }
   ],
   "source": [
    "l1=[1, 9, 8, 7, 5]\n",
    "l2=[8, 7, 4, 1, 9]\n",
    "l3=[i for i in l1 if i in l2]\n",
    "print(l3)"
   ]
  },
  {
   "cell_type": "code",
   "execution_count": null,
   "id": "a84493c9",
   "metadata": {},
   "outputs": [],
   "source": []
  }
 ],
 "metadata": {
  "kernelspec": {
   "display_name": "Python 3",
   "language": "python",
   "name": "python3"
  },
  "language_info": {
   "codemirror_mode": {
    "name": "ipython",
    "version": 3
   },
   "file_extension": ".py",
   "mimetype": "text/x-python",
   "name": "python",
   "nbconvert_exporter": "python",
   "pygments_lexer": "ipython3",
   "version": "3.12.0"
  }
 },
 "nbformat": 4,
 "nbformat_minor": 5
}
