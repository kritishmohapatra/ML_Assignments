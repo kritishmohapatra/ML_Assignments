{
 "cells": [
  {
   "cell_type": "markdown",
   "id": "ba38f362",
   "metadata": {},
   "source": [
    "# Module: Exception Handling Assignments\n",
    "## Lesson: Exception Handling with try, except, and finally\n",
    "### Assignment 1: Handling Division by Zero\n",
    "\n",
    "Write a function that takes two integers as input and returns their division. Use try, except, and finally blocks to handle division by zero and print an appropriate message."
   ]
  },
  {
   "cell_type": "code",
   "execution_count": null,
   "id": "8f642bbf",
   "metadata": {},
   "outputs": [
    {
     "name": "stdout",
     "output_type": "stream",
     "text": [
      "Execution Completed\n",
      "5.0\n",
      "Error occured->division by zero\n",
      "Execution Completed\n",
      "None\n"
     ]
    }
   ],
   "source": [
    "def div(a, b):\n",
    "    try:\n",
    "        res=a/b \n",
    "    except ZeroDivisionError as e:\n",
    "        print(f\"Error occured->{e}\")\n",
    "        res=None \n",
    "    finally:\n",
    "        print(\"Execution Completed\")\n",
    "    return res\n",
    "print(div(10,2))\n",
    "print(div(10, 0))\n"
   ]
  },
  {
   "cell_type": "markdown",
   "id": "9c45b848",
   "metadata": {},
   "source": [
    "### Assignment 2: File Reading with Exception Handling\n",
    "\n",
    "Write a function that reads the contents of a file named `data.txt`. Use try, except, and finally blocks to handle file not found errors and ensure the file is properly closed.\n"
   ]
  },
  {
   "cell_type": "code",
   "execution_count": null,
   "id": "1cab4e18",
   "metadata": {},
   "outputs": [
    {
     "name": "stdout",
     "output_type": "stream",
     "text": [
      "Error occured->[Errno 2] No such file or directory: 'data.txt'\n",
      "Execution Completed\n",
      "None\n"
     ]
    }
   ],
   "source": [
    "def read(file):\n",
    "    try:\n",
    "        with open(file, \"r\") as f:\n",
    "            content=f.read()\n",
    "    except FileNotFoundError as e:\n",
    "        content=None\n",
    "        print(f\"Error occured->{e}\")\n",
    "    finally:\n",
    "        print(\"Execution Completed\")\n",
    "    return content\n",
    "\n",
    "print(read(\"data.txt\"))\n"
   ]
  },
  {
   "cell_type": "markdown",
   "id": "2e8266d4",
   "metadata": {},
   "source": [
    "### Assignment 3: Handling Multiple Exceptions\n",
    "\n",
    "Write a function that takes a list of integers and returns their sum. Use try, except, and finally blocks to handle TypeError if a non-integer value is encountered and print an appropriate message."
   ]
  },
  {
   "cell_type": "code",
   "execution_count": null,
   "id": "7b154241",
   "metadata": {},
   "outputs": [
    {
     "name": "stdout",
     "output_type": "stream",
     "text": [
      "Error occured->unsupported operand type(s) for +=: 'int' and 'str'\n",
      "Execution Completed\n",
      "None\n",
      "Execution Completed\n",
      "10\n"
     ]
    }
   ],
   "source": [
    "def multiple_exp(lst):\n",
    "    total=0\n",
    "    try:\n",
    "        for i in lst:\n",
    "            total+=i \n",
    "\n",
    "    except TypeError as e:\n",
    "        total=None\n",
    "        print(f\"Error occured->{e}\")\n",
    "    finally:\n",
    "        print(\"Execution Completed\")\n",
    "    return total\n",
    "print(multiple_exp([1, 2, 3, \"a\"]))\n",
    "print(multiple_exp([1, 2, 3, 4]))\n"
   ]
  },
  {
   "cell_type": "markdown",
   "id": "3030df1b",
   "metadata": {},
   "source": [
    "### Assignment 4: Exception Handling in User Input\n",
    "\n",
    "Write a function that prompts the user to enter an integer. Use try, except, and finally blocks to handle ValueError if the user enters a non-integer value and print an appropriate message."
   ]
  },
  {
   "cell_type": "code",
   "execution_count": null,
   "id": "1be3926e",
   "metadata": {},
   "outputs": [
    {
     "name": "stdout",
     "output_type": "stream",
     "text": [
      "Error occured->invalid literal for int() with base 10: 'a'\n",
      "Execution Completed\n",
      "None\n"
     ]
    }
   ],
   "source": [
    "def user_exp():\n",
    "    try:\n",
    "        inp=int(input(\"Enter the value here:-\"))\n",
    "    except ValueError as e:\n",
    "        inp=None\n",
    "        print(f\"Error occured->{e}\")\n",
    "    finally:\n",
    "        print(\"Execution Completed\")\n",
    "    return inp \n",
    "print(user_exp())"
   ]
  },
  {
   "cell_type": "markdown",
   "id": "c35c8da2",
   "metadata": {},
   "source": [
    "### Assignment 5: Exception Handling in Dictionary Access\n",
    "\n",
    "Write a function that takes a dictionary and a key as input and returns the value associated with the key. Use try, except, and finally blocks to handle KeyError if the key is not found in the dictionary and print an appropriate message."
   ]
  },
  {
   "cell_type": "code",
   "execution_count": 8,
   "id": "fd5eae68",
   "metadata": {},
   "outputs": [
    {
     "name": "stdout",
     "output_type": "stream",
     "text": [
      "Execution Completed\n",
      "2\n",
      "Error occured->'x'\n",
      "Execution Completed\n",
      "None\n"
     ]
    }
   ],
   "source": [
    "def dic_exp(d, key):\n",
    "    try:\n",
    "        value=d[key]\n",
    "    except KeyError as e:\n",
    "        value=None\n",
    "        print(f\"Error occured->{e}\")\n",
    "    finally:\n",
    "        print(\"Execution Completed\")\n",
    "    return value\n",
    "\n",
    "\n",
    "d = {'a': 1, 'b': 2, 'c': 3}\n",
    "print(dic_exp(d, 'b'))  # 2\n",
    "print(dic_exp(d, 'x'))  # None"
   ]
  },
  {
   "cell_type": "markdown",
   "id": "89930fe7",
   "metadata": {},
   "source": [
    "### Assignment 6: Nested Exception Handling\n",
    "\n",
    "Write a function that performs nested exception handling. It should first attempt to convert a string to an integer, and then attempt to divide by that integer. Use nested try, except, and finally blocks to handle ValueError and ZeroDivisionError and print appropriate messages."
   ]
  },
  {
   "cell_type": "code",
   "execution_count": 12,
   "id": "18cfb091",
   "metadata": {},
   "outputs": [
    {
     "name": "stdout",
     "output_type": "stream",
     "text": [
      "Conversion Completed\n",
      "Error=>division by zero\n",
      "Divison Completed\n",
      "Process completed\n",
      "None\n",
      "Error occured->invalid literal for int() with base 10: 'a'\n",
      "Conversion Completed\n",
      "Process completed\n",
      "None\n",
      "Conversion Completed\n",
      "Divison Completed\n",
      "Process completed\n",
      "5.0\n"
     ]
    }
   ],
   "source": [
    "def nested(s):\n",
    "    try:\n",
    "        try:\n",
    "            num=int(s)\n",
    "        except ValueError as e:\n",
    "            num=None\n",
    "            print(f\"Error occured->{e}\")\n",
    "        finally:\n",
    "            print(\"Conversion Completed\")\n",
    "        if num is not None:\n",
    "            try:\n",
    "                res=10/num \n",
    "            except ZeroDivisionError as e:\n",
    "                print(f\"Error=>{e}\")\n",
    "                res=None \n",
    "            finally:\n",
    "                print(\"Divison Completed\")\n",
    "                return res \n",
    "    finally:\n",
    "        print(\"Process completed\")\n",
    "# Test\n",
    "print(nested('0'))  # None\n",
    "print(nested('a'))  # None\n",
    "print(nested('2'))  # 5.0"
   ]
  },
  {
   "cell_type": "markdown",
   "id": "1cbe7a7f",
   "metadata": {},
   "source": [
    "### Assignment 7: Exception Handling in List Operations\n",
    "\n",
    "Write a function that takes a list and an index as input and returns the element at the given index. Use try, except, and finally blocks to handle IndexError if the index is out of range and print an appropriate message."
   ]
  },
  {
   "cell_type": "code",
   "execution_count": 13,
   "id": "10a5380f",
   "metadata": {},
   "outputs": [
    {
     "name": "stdout",
     "output_type": "stream",
     "text": [
      "Execution Completed\n",
      "3\n",
      "Error=>list index out of range\n",
      "Execution Completed\n",
      "None\n"
     ]
    }
   ],
   "source": [
    "def lst_access(lst, ind):\n",
    "    try:\n",
    "        value=lst[ind]\n",
    "    except IndexError as e:\n",
    "        print(f\"Error=>{e}\")\n",
    "        value=None \n",
    "    finally:\n",
    "        print(\"Execution Completed\")\n",
    "    return value \n",
    "lst = [1, 2, 3, 4, 5]\n",
    "print(lst_access(lst, 2))  # 3\n",
    "print(lst_access(lst, 10))  # None\n"
   ]
  },
  {
   "cell_type": "markdown",
   "id": "27d157ae",
   "metadata": {},
   "source": [
    "### Assignment 8: Exception Handling in Network Operations\n",
    "\n",
    "Write a function that attempts to open a URL and read its contents. Use try, except, and finally blocks to handle network-related errors and print an appropriate message."
   ]
  },
  {
   "cell_type": "code",
   "execution_count": 7,
   "id": "3f0c743c",
   "metadata": {},
   "outputs": [
    {
     "name": "stdout",
     "output_type": "stream",
     "text": [
      "Execution Completed\n",
      "{\n",
      "  \"userId\": 1,\n",
      "  \"id\": 1,\n",
      "  \"title\": \"sunt aut facere repellat provident occaecati excepturi optio reprehenderit\",\n",
      "  \"body\": \"quia et suscipit\\nsuscipit recusandae consequuntur expedita et cum\\nreprehenderit molestiae ut ut quas totam\\nnostrum rerum est autem sunt rem eveniet architecto\"\n",
      "}\n",
      "Error=>HTTPSConnectionPool(host='nonexistent.url', port=443): Max retries exceeded with url: / (Caused by NameResolutionError(\"<urllib3.connection.HTTPSConnection object at 0x000001D12A123350>: Failed to resolve 'nonexistent.url' ([Errno 11001] getaddrinfo failed)\"))\n",
      "Execution Completed\n",
      "None\n"
     ]
    }
   ],
   "source": [
    "import requests\n",
    "def network(url):\n",
    "    try:\n",
    "        response=requests.get(url)\n",
    "        response.raise_for_status()\n",
    "        return response.text \n",
    "    except requests.RequestException as e:\n",
    "        print(f\"Error=>{e}\")\n",
    "        return None \n",
    "    finally:\n",
    "        print(\"Execution Completed\")\n",
    "\n",
    "print(network('https://jsonplaceholder.typicode.com/posts/1'))\n",
    "print(network('https://nonexistent.url'))"
   ]
  },
  {
   "cell_type": "markdown",
   "id": "96e6c609",
   "metadata": {},
   "source": [
    "### Assignment 9: Exception Handling in JSON Parsing\n",
    "\n",
    "Write a function that attempts to parse a JSON string. Use try, except, and finally blocks to handle JSONDecodeError if the string is not a valid JSON and print an appropriate message."
   ]
  },
  {
   "cell_type": "code",
   "execution_count": 1,
   "id": "c0df1b18",
   "metadata": {},
   "outputs": [
    {
     "name": "stdout",
     "output_type": "stream",
     "text": [
      "Execution completed\n",
      "{'name': 'John', 'age': 30}\n",
      "Error=>Expecting value: line 1 column 1 (char 0)\n",
      "Execution completed\n",
      "None\n"
     ]
    }
   ],
   "source": [
    "import json\n",
    "def parse_json(string):\n",
    "    try:\n",
    "        data=json.loads(string)\n",
    "        return data \n",
    "    except json.JSONDecodeError as e:\n",
    "        print(f\"Error=>{e}\")\n",
    "        return None \n",
    "    finally:\n",
    "        print(\"Execution completed\")\n",
    "print(parse_json('{\"name\": \"John\", \"age\": 30}'))  # {'name': 'John', 'age': 30}\n",
    "print(parse_json('Invalid JSON'))  # None"
   ]
  },
  {
   "cell_type": "markdown",
   "id": "84480fde",
   "metadata": {},
   "source": [
    "### Assignment 10: Custom Exception Handling\n",
    "\n",
    "Define a custom exception named `NegativeNumberError`. Write a function that raises this exception if a negative number is encountered in a list. Use try, except, and finally blocks to handle the custom exception and print an appropriate message."
   ]
  },
  {
   "cell_type": "code",
   "execution_count": 3,
   "id": "63b7f936",
   "metadata": {},
   "outputs": [
    {
     "name": "stdout",
     "output_type": "stream",
     "text": [
      "Error=> Negative number found=>-2\n",
      "Execution Completed\n",
      "Execution Completed\n"
     ]
    }
   ],
   "source": [
    "class NegativeNumber(Exception):\n",
    "    pass \n",
    "def check(lst):\n",
    "    try:\n",
    "        for i in lst:\n",
    "            if i<0:\n",
    "                raise NegativeNumber(f\"Negative number found=>{i}\")\n",
    "    except NegativeNumber as e:\n",
    "        print(f\"Error=> {e}\")\n",
    "    finally:\n",
    "        print(\"Execution Completed\")\n",
    "check([1, -2, 3, 4])  # Error: Negative number found: -2\n",
    "check([1, 2, 3, 4])  # Execution complete."
   ]
  },
  {
   "cell_type": "markdown",
   "id": "d627258e",
   "metadata": {},
   "source": [
    "### Assignment 11: Exception Handling in Function Calls\n",
    "\n",
    "Write a function that calls another function which may raise an exception. Use try, except, and finally blocks to handle the exception and print an appropriate message."
   ]
  },
  {
   "cell_type": "code",
   "execution_count": 2,
   "id": "0207db30",
   "metadata": {},
   "outputs": [
    {
     "name": "stdout",
     "output_type": "stream",
     "text": [
      "Error=>An error occured in risky function\n",
      "Execution completed\n"
     ]
    }
   ],
   "source": [
    "def riskyfun():\n",
    "    raise ValueError(\"An error occured in risky function\")\n",
    "def safe_fun():\n",
    "    try:\n",
    "        riskyfun()\n",
    "    except ValueError as e:\n",
    "        print(f\"Error=>{e}\")\n",
    "    finally:\n",
    "        print(\"Execution completed\")\n",
    "\n",
    "safe_fun()\n"
   ]
  },
  {
   "cell_type": "markdown",
   "id": "d189adc5",
   "metadata": {},
   "source": [
    "### Assignment 12: Exception Handling in Class Methods\n",
    "\n",
    "Define a class with a method that performs a division operation. Use try, except, and finally blocks within the method to handle division by zero and print an appropriate message."
   ]
  },
  {
   "cell_type": "code",
   "execution_count": 3,
   "id": "d86d7330",
   "metadata": {},
   "outputs": [
    {
     "name": "stdout",
     "output_type": "stream",
     "text": [
      "Execution Completed\n",
      "5.0\n",
      "Error=>division by zero\n",
      "Execution Completed\n",
      "None\n"
     ]
    }
   ],
   "source": [
    "class Calculaor:\n",
    "    def divide(self, a, b):\n",
    "        try:\n",
    "            res=a/b \n",
    "        except ZeroDivisionError as e:\n",
    "            res=None\n",
    "            print(f\"Error=>{e}\")\n",
    "        finally:\n",
    "            print(\"Execution Completed\")\n",
    "        return res \n",
    "c=Calculaor()\n",
    "print(c.divide(10, 2))\n",
    "print(c.divide(10, 0))\n"
   ]
  },
  {
   "cell_type": "markdown",
   "id": "536d887a",
   "metadata": {},
   "source": [
    "### Assignment 13: Exception Handling in Data Conversion\n",
    "\n",
    "Write a function that takes a list of strings and converts them to integers. Use try, except, and finally blocks to handle ValueError if a string cannot be converted and print an appropriate message."
   ]
  },
  {
   "cell_type": "code",
   "execution_count": 5,
   "id": "c77b2a25",
   "metadata": {},
   "outputs": [
    {
     "name": "stdout",
     "output_type": "stream",
     "text": [
      "Error=>invalid literal for int() with base 10: 'three'\n",
      "Execution Completed\n",
      "None\n",
      "Execution Completed\n",
      "[1, 2, 3, 4]\n"
     ]
    }
   ],
   "source": [
    "def data_conv(lst):\n",
    "    integers=[]\n",
    "    try:\n",
    "        for i in lst:\n",
    "            integers.append(int(i))\n",
    "    except ValueError as e:\n",
    "        integers=None \n",
    "        print(f\"Error=>{e}\")\n",
    "    finally:\n",
    "        print(\"Execution Completed\")\n",
    "    return integers\n",
    "print(data_conv(['1', '2', 'three', '4']))  # None\n",
    "print(data_conv(['1', '2', '3', '4']))  # [1, 2, 3, 4]\n",
    "    "
   ]
  },
  {
   "cell_type": "markdown",
   "id": "20710784",
   "metadata": {},
   "source": [
    "### Assignment 14: Exception Handling in List Comprehensions\n",
    "\n",
    "Write a function that uses a list comprehension to convert a list of strings to integers. Use try, except, and finally blocks within the list comprehension to handle ValueError and print an appropriate message."
   ]
  },
  {
   "cell_type": "code",
   "execution_count": 6,
   "id": "a9534993",
   "metadata": {},
   "outputs": [
    {
     "name": "stdout",
     "output_type": "stream",
     "text": [
      "Error=>invalid literal for int() with base 10: 'three'\n",
      "Execution Completed\n",
      "None\n",
      "Execution Completed\n",
      "[1, 2, 3, 4]\n"
     ]
    }
   ],
   "source": [
    "def data_conv(lst):\n",
    "    try:\n",
    "        integers=[int(i) for i in lst]\n",
    "\n",
    "    except ValueError as e:\n",
    "        integers=None \n",
    "        print(f\"Error=>{e}\")\n",
    "    finally:\n",
    "        print(\"Execution Completed\")\n",
    "    return integers\n",
    "print(data_conv(['1', '2', 'three', '4']))  # None\n",
    "print(data_conv(['1', '2', '3', '4']))  # [1, 2, 3, 4]\n",
    "    "
   ]
  },
  {
   "cell_type": "markdown",
   "id": "bb2013c3",
   "metadata": {},
   "source": [
    "### Assignment 15: Exception Handling in File Writing\n",
    "\n",
    "Write a function that attempts to write a list of strings to a file. Use try, except, and finally blocks to handle IOError and ensure the file is properly closed."
   ]
  },
  {
   "cell_type": "code",
   "execution_count": 7,
   "id": "d4f6196a",
   "metadata": {},
   "outputs": [
    {
     "name": "stdout",
     "output_type": "stream",
     "text": [
      "Error=>[Errno 2] No such file or directory: 'output.txt'\n"
     ]
    }
   ],
   "source": [
    "def write_strings(lines, file):\n",
    "    try:\n",
    "        f=open(file, \"r\")\n",
    "        for l in lines:\n",
    "            f.write(l+\"\\n\")\n",
    "    except IOError as e:\n",
    "        print(f'Error=>{e}')\n",
    "    finally:\n",
    "        try:\n",
    "            f.close()\n",
    "        except NameError:\n",
    "            pass\n",
    "\n",
    "write_strings(['Hello', 'World'], 'output.txt')"
   ]
  },
  {
   "cell_type": "code",
   "execution_count": null,
   "id": "a6c05677",
   "metadata": {},
   "outputs": [],
   "source": []
  }
 ],
 "metadata": {
  "kernelspec": {
   "display_name": "Python 3",
   "language": "python",
   "name": "python3"
  },
  "language_info": {
   "codemirror_mode": {
    "name": "ipython",
    "version": 3
   },
   "file_extension": ".py",
   "mimetype": "text/x-python",
   "name": "python",
   "nbconvert_exporter": "python",
   "pygments_lexer": "ipython3",
   "version": "3.12.0"
  }
 },
 "nbformat": 4,
 "nbformat_minor": 5
}
