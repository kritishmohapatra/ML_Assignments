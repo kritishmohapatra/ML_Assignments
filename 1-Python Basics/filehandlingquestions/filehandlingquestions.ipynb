{
 "cells": [
  {
   "cell_type": "markdown",
   "id": "9f124ca5",
   "metadata": {},
   "source": [
    "# Module: File Handling Assignments\n",
    "## Lesson: File Handling and Operations\n",
    "### Assignment 1: Reading a File\n",
    "\n",
    "Write a function that reads the contents of a file named `sample.txt` and prints each line.\n"
   ]
  },
  {
   "cell_type": "code",
   "execution_count": 2,
   "id": "00441944",
   "metadata": {},
   "outputs": [
    {
     "name": "stdout",
     "output_type": "stream",
     "text": [
      "hi\n",
      "i am kritish\n"
     ]
    }
   ],
   "source": [
    "def read(file):\n",
    "    with open(file, \"r\") as f:\n",
    "        for line in f:\n",
    "            print(line.strip())\n",
    "read(\"sample_1.txt\")\n"
   ]
  },
  {
   "cell_type": "markdown",
   "id": "d30eba20",
   "metadata": {},
   "source": [
    "### Assignment 2: Writing to a File\n",
    "\n",
    "Write a function that writes a list of strings to a file named `output.txt`, with each string on a new line.\n"
   ]
  },
  {
   "cell_type": "code",
   "execution_count": 5,
   "id": "40253378",
   "metadata": {},
   "outputs": [],
   "source": [
    "def write(lines, file):\n",
    "    with open(file, \"w\") as f:\n",
    "        for line in lines:\n",
    "            f.write(line+\"\\n\")\n",
    "write([\"hi\", \"kritish\"], \"sample_1.txt\")\n",
    "    "
   ]
  },
  {
   "cell_type": "markdown",
   "id": "ce50f555",
   "metadata": {},
   "source": [
    "### Assignment 3: Copying a File\n",
    "\n",
    "Write a function that copies the contents of a file named `source.txt` to a new file named `destination.txt`."
   ]
  },
  {
   "cell_type": "code",
   "execution_count": 6,
   "id": "c6d3b1f8",
   "metadata": {},
   "outputs": [],
   "source": [
    "def copying(soure, des):\n",
    "    with open(soure, \"r\") as f:\n",
    "        with open(des, \"w\") as fd:\n",
    "            fd.write(f.read())\n",
    "copying(\"src.txt\", \"des.txt\")"
   ]
  },
  {
   "cell_type": "markdown",
   "id": "b05ad3ee",
   "metadata": {},
   "source": [
    "### Assignment 4: Appending to a File\n",
    "\n",
    "Write a function that appends a given string to the end of a file named `log.txt`."
   ]
  },
  {
   "cell_type": "code",
   "execution_count": 7,
   "id": "08af775d",
   "metadata": {},
   "outputs": [],
   "source": [
    "def append(file, string):\n",
    "    with open(file, \"a\") as f:\n",
    "        f.write(string+\"\\n\")\n",
    "append(\"log.txt\", \"new log added-455755\")"
   ]
  },
  {
   "cell_type": "markdown",
   "id": "67ec8625",
   "metadata": {},
   "source": [
    "### Assignment 5: Counting Words in a File\n",
    "\n",
    "Write a function that reads the contents of a file named `document.txt` and returns the number of words in the file."
   ]
  },
  {
   "cell_type": "code",
   "execution_count": 9,
   "id": "c78d0624",
   "metadata": {},
   "outputs": [
    {
     "data": {
      "text/plain": [
       "3"
      ]
     },
     "execution_count": 9,
     "metadata": {},
     "output_type": "execute_result"
    }
   ],
   "source": [
    "def count(file):\n",
    "    with open(file, \"r\") as f:\n",
    "        content=f.read()\n",
    "        words=content.split()\n",
    "        return len(words)\n",
    "count(\"sample_1.txt\")\n",
    "count(\"src.txt\")\n",
    "\n",
    "    "
   ]
  },
  {
   "cell_type": "markdown",
   "id": "00274e7c",
   "metadata": {},
   "source": [
    "### Assignment 6: Finding and Replacing Text\n",
    "\n",
    "Write a function that finds and replaces all occurrences of a given word in a file named `data.txt` with another word."
   ]
  },
  {
   "cell_type": "code",
   "execution_count": 14,
   "id": "afa42978",
   "metadata": {},
   "outputs": [],
   "source": [
    "def replicate(file, old, new):\n",
    "    with open(file, \"r\") as f:\n",
    "        con=f.read()\n",
    "    new_text=con.replace(old, new)\n",
    "    with open(file, \"w\") as f:\n",
    "        f.write(new_text)\n",
    "        \n",
    "replicate(\"sample_1.txt\", \"kritish\", \"mohapatra\")        "
   ]
  },
  {
   "cell_type": "markdown",
   "id": "823abf6a",
   "metadata": {},
   "source": [
    "### Assignment 7: Reading a File in Reverse\n",
    "\n",
    "Write a function that reads the contents of a file named `reverse.txt` and prints each line in reverse order."
   ]
  },
  {
   "cell_type": "code",
   "execution_count": 15,
   "id": "45cd9e89",
   "metadata": {},
   "outputs": [
    {
     "name": "stdout",
     "output_type": "stream",
     "text": [
      "mohapatra\n",
      "\n",
      "hi\n",
      "\n"
     ]
    }
   ],
   "source": [
    "def rev_read(file):\n",
    "    with open(file,\"r\") as f:\n",
    "        content=f.readlines()\n",
    "    for l in reversed(content):\n",
    "        print(l)\n",
    "rev_read(\"sample_1.txt\")"
   ]
  },
  {
   "cell_type": "markdown",
   "id": "6b6fa3d9",
   "metadata": {},
   "source": [
    "### Assignment 8: Counting Lines, Words, and Characters\n",
    "\n",
    "Write a function that reads the contents of a file named `stats.txt` and returns the number of lines, words, and characters in the file.\n"
   ]
  },
  {
   "cell_type": "code",
   "execution_count": 18,
   "id": "50592157",
   "metadata": {},
   "outputs": [
    {
     "data": {
      "text/plain": [
       "(2, 2, 13)"
      ]
     },
     "execution_count": 18,
     "metadata": {},
     "output_type": "execute_result"
    }
   ],
   "source": [
    "def count_lines_words_chars(file):\n",
    "    with open(file, \"r\") as f:\n",
    "        l=f.readlines()\n",
    "        words=sum(len(line.split()) for line in l)\n",
    "        chars=sum(len(line) for line in l)\n",
    "    return len(l), words, chars\n",
    "count_lines_words_chars(\"sample_1.txt\")\n"
   ]
  },
  {
   "cell_type": "markdown",
   "id": "1c543910",
   "metadata": {},
   "source": [
    "### Assignment 9: Merging Multiple Files\n",
    "\n",
    "Write a function that merges the contents of multiple files into a single file named `merged.txt`."
   ]
  },
  {
   "cell_type": "code",
   "execution_count": 20,
   "id": "8e2e1fb6",
   "metadata": {},
   "outputs": [],
   "source": [
    "def merge(output, filelist):\n",
    "    with open(output, \"w\") as des:\n",
    "        for f in filelist:\n",
    "            with open(f, \"r\") as src:\n",
    "                des.write(src.read()+\"\\n\")\n",
    "\n",
    "merge(\"merge.txt\", [\"sample_1.txt\", \"des.txt\", \"src.txt\"])"
   ]
  },
  {
   "cell_type": "markdown",
   "id": "a08bc07c",
   "metadata": {},
   "source": [
    "### Assignment 10: Splitting a Large File\n",
    "\n",
    "Write a function that splits a large file named `large.txt` into smaller files of 100 lines each."
   ]
  },
  {
   "cell_type": "code",
   "execution_count": 21,
   "id": "695750d2",
   "metadata": {},
   "outputs": [],
   "source": [
    "def split_file(file, num):\n",
    "    with open(file, \"r\") as f:\n",
    "        lines=f.readlines()\n",
    "    for i in range(0, len(lines), num):\n",
    "        with open(f\"{file}_part{i//num+1}.txt\", \"w\") as fr:\n",
    "            fr.writelines(lines[i:i+num])\n",
    "\n",
    "split_file(\"sample_1.txt\", 100)\n"
   ]
  },
  {
   "cell_type": "markdown",
   "id": "618214d9",
   "metadata": {},
   "source": [
    "### Assignment 11: Creating a Log File\n",
    "\n",
    "Write a function that creates a log file named `activity.log` and writes log messages with timestamps."
   ]
  },
  {
   "cell_type": "code",
   "execution_count": 24,
   "id": "2f581e95",
   "metadata": {},
   "outputs": [],
   "source": [
    "import datetime \n",
    "def log(msg, file):\n",
    "  \n",
    "    now=datetime.datetime.now().isoformat()\n",
    "    with open(file, \"a\")as f:\n",
    "        f.write(f\"{msg}=>{now}\")\n",
    "\n",
    "log(\"Message is added\", \"activity.log\")\n",
    "\n"
   ]
  },
  {
   "cell_type": "markdown",
   "id": "757e9c96",
   "metadata": {},
   "source": [
    "### Assignment 12: Binary File Operations\n",
    "\n",
    "Write a function that reads a binary file named `image.bin` and writes its contents to another binary file named `copy_image.bin`."
   ]
  },
  {
   "cell_type": "code",
   "execution_count": 25,
   "id": "a457ddab",
   "metadata": {},
   "outputs": [],
   "source": [
    "def bin_opr(src, des):\n",
    "    with open(src, \"rb\") as sr:\n",
    "        with open(des, \"wb\") as d:\n",
    "            d.write(sr.read())\n",
    "bin_opr(\"src.bin\", \"des.bin\")\n"
   ]
  },
  {
   "cell_type": "markdown",
   "id": "cc881a8c",
   "metadata": {},
   "source": [
    "### Assignment 13: CSV File Operations\n",
    "\n",
    "Write a function that reads a CSV file named `data.csv` and prints its contents as a list of dictionaries."
   ]
  },
  {
   "cell_type": "code",
   "execution_count": 27,
   "id": "bd6ca34c",
   "metadata": {},
   "outputs": [
    {
     "data": {
      "text/plain": [
       "[{'Industry': 'Accounting/Finance'},\n",
       " {'Industry': 'Advertising/Public Relations'},\n",
       " {'Industry': 'Aerospace/Aviation'},\n",
       " {'Industry': 'Arts/Entertainment/Publishing'},\n",
       " {'Industry': 'Automotive'},\n",
       " {'Industry': 'Banking/Mortgage'},\n",
       " {'Industry': 'Business Development'},\n",
       " {'Industry': 'Business Opportunity'},\n",
       " {'Industry': 'Clerical/Administrative'},\n",
       " {'Industry': 'Construction/Facilities'},\n",
       " {'Industry': 'Consumer Goods'},\n",
       " {'Industry': 'Customer Service'},\n",
       " {'Industry': 'Education/Training'},\n",
       " {'Industry': 'Energy/Utilities'},\n",
       " {'Industry': 'Engineering'},\n",
       " {'Industry': 'Government/Military'},\n",
       " {'Industry': 'Green'},\n",
       " {'Industry': 'Healthcare'},\n",
       " {'Industry': 'Hospitality/Travel'},\n",
       " {'Industry': 'Human Resources'},\n",
       " {'Industry': 'Installation/Maintenance'},\n",
       " {'Industry': 'Insurance'},\n",
       " {'Industry': 'Internet'},\n",
       " {'Industry': 'Job Search Aids'},\n",
       " {'Industry': 'Law Enforcement/Security'},\n",
       " {'Industry': 'Legal'},\n",
       " {'Industry': 'Management/Executive'},\n",
       " {'Industry': 'Manufacturing/Operations'},\n",
       " {'Industry': 'Marketing'},\n",
       " {'Industry': 'Non-Profit/Volunteer'},\n",
       " {'Industry': 'Pharmaceutical/Biotech'},\n",
       " {'Industry': 'Professional Services'},\n",
       " {'Industry': 'QA/Quality Control'},\n",
       " {'Industry': 'Real Estate'},\n",
       " {'Industry': 'Restaurant/Food Service'},\n",
       " {'Industry': 'Retail'},\n",
       " {'Industry': 'Sales'},\n",
       " {'Industry': 'Science/Research'},\n",
       " {'Industry': 'Skilled Labor'},\n",
       " {'Industry': 'Technology'},\n",
       " {'Industry': 'Telecommunications'},\n",
       " {'Industry': 'Transportation/Logistics'},\n",
       " {'Industry': 'Other'}]"
      ]
     },
     "execution_count": 27,
     "metadata": {},
     "output_type": "execute_result"
    }
   ],
   "source": [
    "import csv\n",
    "def csv_f(file):\n",
    "    with open(file, \"r\") as f:\n",
    "        read=csv.DictReader(f)\n",
    "        return list(read)\n",
    "csv_f(\"industry.csv\")"
   ]
  },
  {
   "cell_type": "markdown",
   "id": "60a8425b",
   "metadata": {},
   "source": [
    "### Assignment 14: JSON File Operations\n",
    "\n",
    "Write a function that reads a JSON file named `data.json` and prints its contents as a Python dictionary."
   ]
  },
  {
   "cell_type": "code",
   "execution_count": 28,
   "id": "aa5e60f6",
   "metadata": {},
   "outputs": [
    {
     "data": {
      "text/plain": [
       "[{'id': 1,\n",
       "  'name': 'Aarav Sharma',\n",
       "  'age': 16,\n",
       "  'grade': '10',\n",
       "  'email': 'aarav.sharma@example.com'},\n",
       " {'id': 2,\n",
       "  'name': 'Diya Patel',\n",
       "  'age': 15,\n",
       "  'grade': '9',\n",
       "  'email': 'diya.patel@example.com'},\n",
       " {'id': 3,\n",
       "  'name': 'Kritish Mohapatra',\n",
       "  'age': 17,\n",
       "  'grade': '11',\n",
       "  'email': 'kritish.m@example.com'},\n",
       " {'id': 4,\n",
       "  'name': 'Rohan Verma',\n",
       "  'age': 16,\n",
       "  'grade': '10',\n",
       "  'email': 'rohan.verma@example.com'},\n",
       " {'id': 5,\n",
       "  'name': 'Sneha Reddy',\n",
       "  'age': 18,\n",
       "  'grade': '12',\n",
       "  'email': 'sneha.reddy@example.com'}]"
      ]
     },
     "execution_count": 28,
     "metadata": {},
     "output_type": "execute_result"
    }
   ],
   "source": [
    "import json\n",
    "def read_json(file):\n",
    "    with open(file, \"r\") as f:\n",
    "        data=json.load(f)\n",
    "        return data\n",
    "read_json(\"st.json\")"
   ]
  },
  {
   "cell_type": "markdown",
   "id": "f8add11a",
   "metadata": {},
   "source": [
    "### Assignment 15: File Permission Handling\n",
    "\n",
    "Write a function that attempts to read a file named `protected.txt` and handles any permission errors gracefully by printing an error message."
   ]
  },
  {
   "cell_type": "code",
   "execution_count": 30,
   "id": "62cd1ce9",
   "metadata": {},
   "outputs": [
    {
     "name": "stdout",
     "output_type": "stream",
     "text": [
      "protected\n",
      "\n"
     ]
    }
   ],
   "source": [
    "def permission(file):\n",
    "    try:\n",
    "        with open(file, \"r\") as f:\n",
    "            print(f.read())\n",
    "    except PermissionError as e:\n",
    "        print(f\"Error occured {e}\")\n",
    "permission(\"protected.txt\")"
   ]
  },
  {
   "cell_type": "code",
   "execution_count": null,
   "id": "70d7a0cd",
   "metadata": {},
   "outputs": [],
   "source": []
  }
 ],
 "metadata": {
  "kernelspec": {
   "display_name": "Python 3",
   "language": "python",
   "name": "python3"
  },
  "language_info": {
   "codemirror_mode": {
    "name": "ipython",
    "version": 3
   },
   "file_extension": ".py",
   "mimetype": "text/x-python",
   "name": "python",
   "nbconvert_exporter": "python",
   "pygments_lexer": "ipython3",
   "version": "3.12.0"
  }
 },
 "nbformat": 4,
 "nbformat_minor": 5
}
