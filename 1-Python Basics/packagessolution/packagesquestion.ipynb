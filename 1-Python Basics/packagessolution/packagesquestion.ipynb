{
 "cells": [
  {
   "cell_type": "markdown",
   "id": "20166f2c",
   "metadata": {},
   "source": [
    "# Module 5: Modules and Packages Assignments\n",
    "## Lesson 5.1: Importing Modules\n",
    "### Assignment 1: Importing and Using Modules\n",
    "\n",
    "Import the `math` module and use it to calculate the square root of 25 and the sine of 90 degrees."
   ]
  },
  {
   "cell_type": "code",
   "execution_count": 2,
   "id": "353eeb04",
   "metadata": {},
   "outputs": [
    {
     "name": "stdout",
     "output_type": "stream",
     "text": [
      "5.0\n",
      "1.0\n"
     ]
    }
   ],
   "source": [
    "import math\n",
    "print(math.sqrt(25))\n",
    "print(math.sin(math.radians(90)))\n"
   ]
  },
  {
   "cell_type": "markdown",
   "id": "f275f052",
   "metadata": {},
   "source": [
    "### Assignment 2: Aliasing Modules\n",
    "\n",
    "Import the `datetime` module with an alias and use it to print the current date and time."
   ]
  },
  {
   "cell_type": "code",
   "execution_count": 5,
   "id": "ed806fc6",
   "metadata": {},
   "outputs": [
    {
     "name": "stdout",
     "output_type": "stream",
     "text": [
      "2025-06-12 22:54:23.274469\n"
     ]
    }
   ],
   "source": [
    "import datetime as dt \n",
    "print(dt.datetime.now())"
   ]
  },
  {
   "cell_type": "markdown",
   "id": "5fe365c3",
   "metadata": {},
   "source": [
    "### Assignment 3: Importing Specific Functions\n",
    "\n",
    "Import the `randint` function from the `random` module and use it to generate a random integer between 1 and 100."
   ]
  },
  {
   "cell_type": "code",
   "execution_count": 6,
   "id": "a624207a",
   "metadata": {},
   "outputs": [
    {
     "name": "stdout",
     "output_type": "stream",
     "text": [
      "57\n"
     ]
    }
   ],
   "source": [
    "from random import randint\n",
    "print(randint(1, 100))"
   ]
  },
  {
   "cell_type": "markdown",
   "id": "ea17e6ec",
   "metadata": {},
   "source": [
    "### Assignment 4: Importing Multiple Functions\n",
    "\n",
    "Import the `sqrt` and `pow` functions from the `math` module and use them to calculate the square root of 16 and 2 raised to the power of 3."
   ]
  },
  {
   "cell_type": "code",
   "execution_count": 7,
   "id": "b1617c66",
   "metadata": {},
   "outputs": [
    {
     "name": "stdout",
     "output_type": "stream",
     "text": [
      "4.0\n",
      "8.0\n"
     ]
    }
   ],
   "source": [
    "from math import sqrt, pow\n",
    "print(sqrt(16))\n",
    "print(pow(2, 3))"
   ]
  },
  {
   "cell_type": "markdown",
   "id": "bd0fab01",
   "metadata": {},
   "source": [
    "### Assignment 5: Handling Import Errors\n",
    "\n",
    "Write code that attempts to import a non-existent module and gracefully handles the import error by printing an error message.|"
   ]
  },
  {
   "cell_type": "code",
   "execution_count": 8,
   "id": "db9b8550",
   "metadata": {},
   "outputs": [
    {
     "name": "stdout",
     "output_type": "stream",
     "text": [
      "Error importing module: No module named 'non_exitent_module'\n"
     ]
    }
   ],
   "source": [
    "try:\n",
    "    import non_exitent_module\n",
    "except ImportError as e:\n",
    "    print(f\"Error importing module: {e}\")\n"
   ]
  },
  {
   "cell_type": "markdown",
   "id": "506d7631",
   "metadata": {},
   "source": [
    "## Lesson 5.2: Standard Library Overview\n",
    "### Assignment 6: Working with the `os` Module\n",
    "\n",
    "Use the `os` module to create a new directory, list the contents of the current directory, and remove the newly created directory."
   ]
  },
  {
   "cell_type": "code",
   "execution_count": 9,
   "id": "8d521331",
   "metadata": {},
   "outputs": [
    {
     "name": "stdout",
     "output_type": "stream",
     "text": [
      "['new', 'packagesquestion.ipynb', 'packagessolution.ipynb']\n",
      "['packagesquestion.ipynb', 'packagessolution.ipynb']\n"
     ]
    }
   ],
   "source": [
    "import os \n",
    "os.mkdir(\"new\")\n",
    "print(os.listdir(\".\"))\n",
    "os.rmdir(\"new\")\n",
    "print(os.listdir(\".\"))\n"
   ]
  },
  {
   "cell_type": "markdown",
   "id": "59eb37b1",
   "metadata": {},
   "source": [
    "### Assignment 7: Working with the `sys` Module\n",
    "\n",
    "Use the `sys` module to print the Python version currently in use and the command-line arguments passed to the script."
   ]
  },
  {
   "cell_type": "code",
   "execution_count": 10,
   "id": "b93361e2",
   "metadata": {},
   "outputs": [
    {
     "name": "stdout",
     "output_type": "stream",
     "text": [
      "3.12.0 | packaged by Anaconda, Inc. | (main, Oct  2 2023, 17:20:38) [MSC v.1916 64 bit (AMD64)]\n",
      "['c:\\\\Users\\\\kriti\\\\OneDrive\\\\Desktop\\\\ML\\\\venv\\\\Lib\\\\site-packages\\\\ipykernel_launcher.py', '--f=c:\\\\Users\\\\kriti\\\\AppData\\\\Roaming\\\\jupyter\\\\runtime\\\\kernel-v347fd4358998d1fe4d84eb5d63ef734c7024da3c6.json']\n"
     ]
    }
   ],
   "source": [
    "import sys \n",
    "print(sys.version)\n",
    "print(sys.argv)\n"
   ]
  },
  {
   "cell_type": "markdown",
   "id": "dbb9c472",
   "metadata": {},
   "source": [
    "### Assignment 8: Working with the `math` Module\n",
    "\n",
    "Use the `math` module to calculate the greatest common divisor (GCD) of two numbers and the factorial of a number."
   ]
  },
  {
   "cell_type": "code",
   "execution_count": 15,
   "id": "4f7ebfea",
   "metadata": {},
   "outputs": [
    {
     "name": "stdout",
     "output_type": "stream",
     "text": [
      "120\n",
      "6\n"
     ]
    }
   ],
   "source": [
    "import math\n",
    "print(math.factorial(5))\n",
    "print(math.gcd(48, 18))\n"
   ]
  },
  {
   "cell_type": "markdown",
   "id": "c8287894",
   "metadata": {},
   "source": [
    "### Assignment 9: Working with the `datetime` Module\n",
    "\n",
    "Use the `datetime` module to print the current date, calculate the date 100 days from today, and determine the day of the week for a given date."
   ]
  },
  {
   "cell_type": "code",
   "execution_count": 14,
   "id": "beb14e64",
   "metadata": {},
   "outputs": [
    {
     "name": "stdout",
     "output_type": "stream",
     "text": [
      "2025-06-12\n",
      "2025-09-20\n",
      "Saturday\n"
     ]
    }
   ],
   "source": [
    "import datetime \n",
    "td=datetime.date.today()\n",
    "print(td)\n",
    "ft=td+datetime.timedelta(100)\n",
    "print(ft)\n",
    "given=datetime.date(2005, 1, 22)\n",
    "print(given.strftime(\"%A\"))"
   ]
  },
  {
   "cell_type": "markdown",
   "id": "a6e03424",
   "metadata": {},
   "source": [
    "### Assignment 10: Working with the `random` Module\n",
    "\n",
    "Use the `random` module to generate a list of 5 random numbers between 1 and 50 and shuffle the elements of a list."
   ]
  },
  {
   "cell_type": "code",
   "execution_count": 16,
   "id": "2dac5127",
   "metadata": {},
   "outputs": [
    {
     "name": "stdout",
     "output_type": "stream",
     "text": [
      "[12, 42, 7, 21, 39]\n",
      "[7, 42, 39, 21, 12]\n"
     ]
    }
   ],
   "source": [
    "import random\n",
    "lst=[random.randint(1, 50) for _ in range(5)]\n",
    "print(lst)\n",
    "random.shuffle(lst)\n",
    "print(lst)"
   ]
  },
  {
   "cell_type": "markdown",
   "id": "a01bfa20",
   "metadata": {},
   "source": [
    "## Lesson 5.3: Creating and Using Packages\n",
    "### Assignment 11: Creating a Simple Package\n",
    "\n",
    "Create a package named `mypackage` with two modules: `module1` and `module2`. `module1` should contain a function that adds two numbers, and `module2` should contain a function that multiplies two numbers. Write code to use these functions."
   ]
  },
  {
   "cell_type": "code",
   "execution_count": 1,
   "id": "7fbb8f35",
   "metadata": {},
   "outputs": [
    {
     "name": "stdout",
     "output_type": "stream",
     "text": [
      "5\n",
      "6\n"
     ]
    }
   ],
   "source": [
    "from packages import module1, module2 \n",
    "print(module1.add(2, 3))\n",
    "print(module2.mul(2,3))"
   ]
  },
  {
   "cell_type": "markdown",
   "id": "369d15e0",
   "metadata": {},
   "source": [
    "### Assignment 12: Using `__init__.py`\n",
    "\n",
    "Modify the `mypackage` package to include an `__init__.py` file that imports the functions from `module1` and `module2`. Write code to use these functions."
   ]
  },
  {
   "cell_type": "code",
   "execution_count": 1,
   "id": "e8ae6058",
   "metadata": {},
   "outputs": [
    {
     "name": "stdout",
     "output_type": "stream",
     "text": [
      "5\n",
      "16\n"
     ]
    }
   ],
   "source": [
    "from packages import add, mul\n",
    "print(add(2, 3))\n",
    "print(mul(2, 8))"
   ]
  },
  {
   "cell_type": "markdown",
   "id": "1fde8b1b",
   "metadata": {},
   "source": [
    "### Assignment 13: Importing from a Package\n",
    "\n",
    "Write code to import and use the functions from `mypackage` without explicitly importing `module1` and `module2`."
   ]
  },
  {
   "cell_type": "code",
   "execution_count": 2,
   "id": "a9128b8e",
   "metadata": {},
   "outputs": [
    {
     "name": "stdout",
     "output_type": "stream",
     "text": [
      "5\n",
      "16\n"
     ]
    }
   ],
   "source": [
    "from packages import add, mul\n",
    "print(add(2, 3))\n",
    "print(mul(2, 8))"
   ]
  },
  {
   "cell_type": "markdown",
   "id": "9fc29887",
   "metadata": {},
   "source": [
    "### Assignment 14: Relative Imports\n",
    "\n",
    "Create a subpackage named `subpackage` within `mypackage` and move `module2` into `subpackage`. Modify the import statements in `__init__.py` to use relative imports. Write code to use the functions from both modules."
   ]
  },
  {
   "cell_type": "code",
   "execution_count": 1,
   "id": "c27d618a",
   "metadata": {},
   "outputs": [
    {
     "name": "stdout",
     "output_type": "stream",
     "text": [
      "19\n",
      "90\n"
     ]
    }
   ],
   "source": [
    "from newpack import add, multi\n",
    "print(add(9, 10))\n",
    "print(multi(9,10))"
   ]
  },
  {
   "cell_type": "markdown",
   "id": "181deeb0",
   "metadata": {},
   "source": [
    "### Assignment 15: Handling Package Import Errors\n",
    "\n",
    "Write code that attempts to import a non-existent function from `mypackage` and gracefully handles the import error by printing an error message."
   ]
  },
  {
   "cell_type": "code",
   "execution_count": 2,
   "id": "5c726b4d",
   "metadata": {},
   "outputs": [
    {
     "name": "stdout",
     "output_type": "stream",
     "text": [
      "Error occured:-cannot import name 'kritish' from 'newpack' (c:\\Users\\kriti\\OneDrive\\Desktop\\ML\\1-Python Basics\\packagessolution\\newpack\\__init__.py)\n"
     ]
    }
   ],
   "source": [
    "try:\n",
    "    from newpack import kritish\n",
    "except ImportError as e:\n",
    "    print(f\"Error occured:-{e}\")"
   ]
  },
  {
   "cell_type": "code",
   "execution_count": null,
   "id": "ff0c9e6c",
   "metadata": {},
   "outputs": [],
   "source": []
  }
 ],
 "metadata": {
  "kernelspec": {
   "display_name": "Python 3",
   "language": "python",
   "name": "python3"
  },
  "language_info": {
   "codemirror_mode": {
    "name": "ipython",
    "version": 3
   },
   "file_extension": ".py",
   "mimetype": "text/x-python",
   "name": "python",
   "nbconvert_exporter": "python",
   "pygments_lexer": "ipython3",
   "version": "3.12.0"
  }
 },
 "nbformat": 4,
 "nbformat_minor": 5
}
