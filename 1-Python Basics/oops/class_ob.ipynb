{
 "cells": [
  {
   "cell_type": "code",
   "execution_count": 1,
   "id": "b19e8888",
   "metadata": {},
   "outputs": [
    {
     "name": "stdout",
     "output_type": "stream",
     "text": [
      "<class '__main__.Car'>\n"
     ]
    }
   ],
   "source": [
    "### A class is blue print for creating objects, attributes, methods\n",
    "class Car:\n",
    "    pass\n",
    "audi=Car()\n",
    "bmw=Car()\n",
    "print(type(audi))"
   ]
  },
  {
   "cell_type": "code",
   "execution_count": 5,
   "id": "278b64a0",
   "metadata": {},
   "outputs": [
    {
     "name": "stdout",
     "output_type": "stream",
     "text": [
      "<__main__.Car object at 0x00000157B29D9790>\n",
      "4\n"
     ]
    }
   ],
   "source": [
    "print(audi)\n",
    "audi.window=4\n",
    "print(audi.window)\n",
    "\n",
    "\n",
    "tata=Car()\n",
    "tata.door=5\n",
    "# print(tata.window) #AttributeError: 'Car' object has no attribute 'window'"
   ]
  },
  {
   "cell_type": "code",
   "execution_count": 10,
   "id": "191efbe9",
   "metadata": {},
   "outputs": [
    {
     "name": "stdout",
     "output_type": "stream",
     "text": [
      "<__main__.Dog object at 0x00000157B2B73B30>\n",
      "kutta\n",
      "10\n"
     ]
    }
   ],
   "source": [
    "# Instance variables and methods\n",
    "class Dog:\n",
    "    def __init__(self, name, age):\n",
    "        self.name=name\n",
    "        self.age=age\n",
    "dog1=Dog(\"kutta\", 10)\n",
    "print(dog1)\n",
    "print(dog1.name)\n",
    "print(dog1.age)\n"
   ]
  },
  {
   "cell_type": "code",
   "execution_count": 11,
   "id": "f9d3545a",
   "metadata": {},
   "outputs": [
    {
     "name": "stdout",
     "output_type": "stream",
     "text": [
      "<__main__.Dog object at 0x00000157B2B53920>\n",
      "lusy\n",
      "4\n"
     ]
    }
   ],
   "source": [
    "dog2=Dog(\"lusy\", 4)\n",
    "print(dog2)\n",
    "print(dog2.name)\n",
    "print(dog2.age)\n"
   ]
  },
  {
   "cell_type": "code",
   "execution_count": 2,
   "id": "a3707b2b",
   "metadata": {},
   "outputs": [
    {
     "name": "stdout",
     "output_type": "stream",
     "text": [
      "Buddy says woof\n",
      "lusy says woof\n"
     ]
    }
   ],
   "source": [
    "### define a class instance methods\n",
    "class Dog:\n",
    "    def __init__(self, name, age):\n",
    "        self.name=name\n",
    "        self.age=age\n",
    "    def barking(self):\n",
    "        print(f\"{self.name} says woof\")\n",
    "dog1=Dog(\"Buddy\", 3)\n",
    "dog1.barking()\n",
    "dog2=Dog(\"lusy\", 4)\n",
    "dog2.barking()"
   ]
  },
  {
   "cell_type": "code",
   "execution_count": 5,
   "id": "a7aa4f2c",
   "metadata": {},
   "outputs": [
    {
     "name": "stdout",
     "output_type": "stream",
     "text": [
      "5000\n",
      "Now the balance is 6000\n",
      "Now the balance is 1000\n",
      "1000\n"
     ]
    }
   ],
   "source": [
    "## Modelling a bank account\n",
    "\n",
    "class BankAccount:\n",
    "    def __init__(self, owner, balance):\n",
    "        self.owner=owner\n",
    "        self.balance=balance\n",
    "    def deposit(self, amount):\n",
    "        self.balance+=amount\n",
    "        print(f\"Now the balance is {self.balance}\")\n",
    "    def withdraw(self, amount):\n",
    "        if amount>self.balance:\n",
    "            print(f\"Insufficient Funds\")\n",
    "        else:\n",
    "            self.balance-=amount\n",
    "            print(f\"Now the balance is {self.balance}\")\n",
    "    def get_balance(self):\n",
    "        return self.balance\n",
    "##object\n",
    "account=BankAccount(\"kritish\", 5000)\n",
    "print(account.balance)\n",
    "account.deposit(1000)\n",
    "account.withdraw(5000)\n",
    "print(account.balance)\n"
   ]
  },
  {
   "cell_type": "code",
   "execution_count": null,
   "id": "aab0d432",
   "metadata": {},
   "outputs": [],
   "source": []
  }
 ],
 "metadata": {
  "kernelspec": {
   "display_name": "Python 3",
   "language": "python",
   "name": "python3"
  },
  "language_info": {
   "codemirror_mode": {
    "name": "ipython",
    "version": 3
   },
   "file_extension": ".py",
   "mimetype": "text/x-python",
   "name": "python",
   "nbconvert_exporter": "python",
   "pygments_lexer": "ipython3",
   "version": "3.12.0"
  }
 },
 "nbformat": 4,
 "nbformat_minor": 5
}
