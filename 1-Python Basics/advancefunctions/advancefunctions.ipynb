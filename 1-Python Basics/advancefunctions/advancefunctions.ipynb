{
 "cells": [
  {
   "cell_type": "markdown",
   "id": "6c034adc",
   "metadata": {},
   "source": [
    "# Module 4: Advanced Functions Assignments\n",
    "## Lesson 4.1: Defining Functions\n",
    "### Assignment 1: Fibonacci Sequence with Memoization\n",
    "\n",
    "Define a recursive function to calculate the nth Fibonacci number using memoization. Test the function with different inputs."
   ]
  },
  {
   "cell_type": "code",
   "execution_count": 1,
   "metadata": {},
   "outputs": [
    {
     "name": "stdout",
     "output_type": "stream",
     "text": [
      "55\n",
      "610\n"
     ]
    }
   ],
   "source": [
    "def fibo(n, memo={}):\n",
    "    if n in memo:\n",
    "        return memo[n]\n",
    "    if n<=1:\n",
    "        return n \n",
    "    memo[n]=fibo(n-1, memo)+fibo(n-2, memo)\n",
    "    return memo[n]\n",
    "print(fibo(10))\n",
    "print(fibo(15))\n"
   ]
  },
  {
   "cell_type": "markdown",
   "id": "3890b8fd",
   "metadata": {},
   "source": [
    "### Assignment 2: Function with Nested Default Arguments\n",
    "\n",
    "Define a function that takes two arguments, a and b, where b is a dictionary with a default value of an empty dictionary. The function should add a new key-value pair to the dictionary and return it. Test the function with different inputs.\n"
   ]
  },
  {
   "cell_type": "code",
   "execution_count": 3,
   "id": "1e269ac8",
   "metadata": {},
   "outputs": [
    {
     "name": "stdout",
     "output_type": "stream",
     "text": [
      "{4: 16}\n",
      "{1: 1, 2: 4}\n"
     ]
    }
   ],
   "source": [
    "def default(a, b=None):\n",
    "    if b is None:\n",
    "        b={}\n",
    "    b[a]=a**2\n",
    "    return b\n",
    "print(default(4))\n",
    "print(default(2, {1:1}))"
   ]
  },
  {
   "cell_type": "markdown",
   "id": "8b77dd4a",
   "metadata": {},
   "source": [
    "### Assignment 3: Function with Variable Keyword Arguments\n",
    "\n",
    "Define a function that takes a variable number of keyword arguments and returns a dictionary containing only those key-value pairs where the value is an integer. Test the function with different inputs."
   ]
  },
  {
   "cell_type": "code",
   "execution_count": 4,
   "id": "95f78be6",
   "metadata": {},
   "outputs": [
    {
     "name": "stdout",
     "output_type": "stream",
     "text": [
      "{'a': 1, 'c': 10}\n"
     ]
    }
   ],
   "source": [
    "def keyword(**kwargs):\n",
    "    return {k: v for k , v in kwargs.items() if isinstance(v, int)}\n",
    "print(keyword(a=1, b=\"kritish\", c=10))\n"
   ]
  },
  {
   "cell_type": "markdown",
   "id": "1f9845ad",
   "metadata": {},
   "source": [
    "### Assignment 4: Function with Callback\n",
    "\n",
    "Define a function that takes another function as a callback and a list of integers. The function should apply the callback to each integer in the list and return a new list with the results. Test with different callback functions."
   ]
  },
  {
   "cell_type": "code",
   "execution_count": 1,
   "id": "16082053",
   "metadata": {},
   "outputs": [
    {
     "name": "stdout",
     "output_type": "stream",
     "text": [
      "[1, 4, 9, 16]\n"
     ]
    }
   ],
   "source": [
    "def call(callback, lst):\n",
    "    return [callback(x) for x in lst]\n",
    "print(call(lambda x:x**2, [1, 2, 3, 4]))"
   ]
  },
  {
   "cell_type": "markdown",
   "id": "979d51d7",
   "metadata": {},
   "source": [
    "### Assignment 5: Function that Returns a Function\n",
    "\n",
    "Define a function that returns another function. The returned function should take an integer and return its square. Test the returned function with different inputs."
   ]
  },
  {
   "cell_type": "code",
   "execution_count": 2,
   "id": "1e703d43",
   "metadata": {},
   "outputs": [
    {
     "name": "stdout",
     "output_type": "stream",
     "text": [
      "16\n"
     ]
    }
   ],
   "source": [
    "def out():\n",
    "    def inn(x):\n",
    "        return x**2\n",
    "    return inn\n",
    "sq=out()\n",
    "print(sq(4))"
   ]
  },
  {
   "cell_type": "markdown",
   "id": "72e9e163",
   "metadata": {},
   "source": [
    "### Assignment 6: Function with Decorators\n",
    "\n",
    "Define a function that calculates the time taken to execute another function. Apply this decorator to a function that performs a complex calculation. Test the decorated function with different inputs."
   ]
  },
  {
   "cell_type": "code",
   "execution_count": 3,
   "id": "66274e6c",
   "metadata": {},
   "outputs": [
    {
     "name": "stdout",
     "output_type": "stream",
     "text": [
      "Function comp took 0.0 seconds to execute.\n",
      "332833500\n"
     ]
    }
   ],
   "source": [
    "import time\n",
    "def deco(func):\n",
    "    def wrapper(*args, **kwargs):\n",
    "        st=time.time()\n",
    "        res=func(*args, **kwargs)\n",
    "        et=time.time()\n",
    "        print(f\"Function {func.__name__} took {et - st} seconds to execute.\")\n",
    "        return res\n",
    "    return wrapper\n",
    "@deco\n",
    "def comp(n):\n",
    "    return sum(x**2 for x in range(n))\n",
    "print(comp(1000))\n"
   ]
  },
  {
   "cell_type": "markdown",
   "id": "eb2ed455",
   "metadata": {},
   "source": [
    "### Assignment 7: Higher-Order Function for Filtering and Mapping\n",
    "\n",
    "Define a higher-order function that takes two functions, a filter function and a map function, along with a list of integers. The higher-order function should first filter the integers using the filter function and then apply the map function to the filtered integers. Test with different filter and map functions."
   ]
  },
  {
   "cell_type": "code",
   "execution_count": 5,
   "id": "65b2e6d5",
   "metadata": {},
   "outputs": [
    {
     "name": "stdout",
     "output_type": "stream",
     "text": [
      "[4, 16, 36]\n"
     ]
    }
   ],
   "source": [
    "def highorder(filteri, mapi, lst):\n",
    "    return [mapi(x) for x in lst if filteri(x)]\n",
    "print(highorder(lambda x:x%2==0, lambda x:x**2, [1, 2, 3, 4, 5, 6]))"
   ]
  },
  {
   "cell_type": "markdown",
   "id": "0b612210",
   "metadata": {},
   "source": [
    "### Assignment 8: Function Composition\n",
    "\n",
    "Define a function that composes two functions, f and g, such that the result is f(g(x)). Test with different functions f and g."
   ]
  },
  {
   "cell_type": "code",
   "execution_count": 7,
   "id": "ce44537e",
   "metadata": {},
   "outputs": [
    {
     "name": "stdout",
     "output_type": "stream",
     "text": [
      "17\n"
     ]
    }
   ],
   "source": [
    "def compo(f, g):\n",
    "    return lambda x: f(g(x))\n",
    "f=lambda x:x+1\n",
    "g=lambda x:x**2\n",
    "h=compo(f, g)\n",
    "print(h(4))"
   ]
  },
  {
   "cell_type": "markdown",
   "id": "648788d6",
   "metadata": {},
   "source": [
    "### Assignment 9: Partial Function Application\n",
    "\n",
    "Use the functools.partial function to create a new function that multiplies its input by 2. Test the new function with different inputs."
   ]
  },
  {
   "cell_type": "code",
   "execution_count": 9,
   "id": "48a69460",
   "metadata": {},
   "outputs": [
    {
     "name": "stdout",
     "output_type": "stream",
     "text": [
      "20\n"
     ]
    }
   ],
   "source": [
    "from functools import partial\n",
    "mp_2=partial(lambda x, y :x*y, 2)\n",
    "print(mp_2(10))"
   ]
  },
  {
   "cell_type": "markdown",
   "id": "0f563959",
   "metadata": {},
   "source": [
    "### Assignment 10: Function with Error Handling\n",
    "\n",
    "Define a function that takes a list of integers and returns their average. The function should handle any errors that occur (e.g., empty list) and return None in such cases. Test with different inputs."
   ]
  },
  {
   "cell_type": "code",
   "execution_count": 11,
   "id": "0ae19ed2",
   "metadata": {},
   "outputs": [
    {
     "name": "stdout",
     "output_type": "stream",
     "text": [
      "3.0\n",
      "ZeroDivisionError\n"
     ]
    }
   ],
   "source": [
    "def funct(lst):\n",
    "    try :\n",
    "        return sum(lst)/len(lst)\n",
    "    except ZeroDivisionError:\n",
    "        return(\"ZeroDivisionError\")\n",
    "print(funct([1, 2, 3, 4, 5]))\n",
    "print(funct([]))"
   ]
  },
  {
   "cell_type": "markdown",
   "id": "04082eaa",
   "metadata": {},
   "source": [
    "### Assignment 11: Function with Generators\n",
    "\n",
    "Define a function that generates an infinite sequence of Fibonacci numbers. Test by printing the first 10 numbers in the sequence."
   ]
  },
  {
   "cell_type": "code",
   "execution_count": 13,
   "id": "a7e3686a",
   "metadata": {},
   "outputs": [
    {
     "name": "stdout",
     "output_type": "stream",
     "text": [
      "0\n",
      "1\n",
      "1\n",
      "2\n",
      "3\n",
      "5\n",
      "8\n",
      "13\n",
      "21\n",
      "34\n"
     ]
    }
   ],
   "source": [
    "def gen():\n",
    "    a=0\n",
    "    b=1\n",
    "    while True:\n",
    "        yield a\n",
    "        a, b=b, a+b\n",
    "\n",
    "fib=gen()\n",
    "for i in range(10):\n",
    "    print(next(fib))\n"
   ]
  },
  {
   "cell_type": "markdown",
   "id": "1ad669e1",
   "metadata": {},
   "source": [
    "### Assignment 12: Currying\n",
    "\n",
    "Define a curried function that takes three arguments, one at a time, and returns their product. Test the function by providing arguments one at a time."
   ]
  },
  {
   "cell_type": "code",
   "execution_count": 14,
   "id": "19e52491",
   "metadata": {},
   "outputs": [
    {
     "name": "stdout",
     "output_type": "stream",
     "text": [
      "24\n"
     ]
    }
   ],
   "source": [
    "def carryp(x):\n",
    "    def in1(y):\n",
    "        def in2(z):\n",
    "            return x*y*z\n",
    "        return in2 \n",
    "    return in1 \n",
    "print(carryp(2)(3)(4))"
   ]
  },
  {
   "cell_type": "markdown",
   "id": "c8a45e2c",
   "metadata": {},
   "source": [
    "### Assignment 13: Function with Context Manager\n",
    "\n",
    "Define a function that uses a context manager to write a list of integers to a file. The function should handle any errors that occur during file operations. Test with different lists."
   ]
  },
  {
   "cell_type": "code",
   "execution_count": null,
   "id": "95b5d4b5",
   "metadata": {},
   "outputs": [],
   "source": [
    "\n",
    "def write(lst, file):\n",
    "    try:\n",
    "        with open(file, \"w\") as f:\n",
    "            for num in lst:\n",
    "                f.write(f\"{num}\\n\")\n",
    "    except IOError as e:\n",
    "        print(f\"an error occured{e}\")\n",
    "write([1, 2, 3], \"kritish.txt\")\n",
    "\n"
   ]
  },
  {
   "cell_type": "markdown",
   "id": "08d0e170",
   "metadata": {},
   "source": [
    "### Assignment 14: Function with Multiple Return Types\n",
    "\n",
    "Define a function that takes a list of mixed data types (integers, strings, and floats) and returns three lists: one containing all the integers, one containing all the strings, and one containing all the floats. Test with different inputs."
   ]
  },
  {
   "cell_type": "code",
   "execution_count": 23,
   "id": "f077ed41",
   "metadata": {},
   "outputs": [
    {
     "name": "stdout",
     "output_type": "stream",
     "text": [
      "([1], [5.0], ['kritish'])\n"
     ]
    }
   ],
   "source": [
    "\n",
    "def sept(lst):\n",
    "    ints, strs, floats=[],[],[]\n",
    "    for item in lst:\n",
    "        if isinstance(item , int):\n",
    "            ints.append(item)\n",
    "        elif isinstance(item , str):\n",
    "            strs.append(item)\n",
    "        elif isinstance(item , float):\n",
    "            floats.append(item)\n",
    "    return ints, floats, strs\n",
    "print(sept([1, 5.0, \"kritish\"]))\n"
   ]
  },
  {
   "cell_type": "markdown",
   "id": "b211e3b6",
   "metadata": {},
   "source": [
    "### Assignment 15: Function with State\n",
    "\n",
    "Define a function that maintains state between calls using a mutable default argument. The function should keep track of how many times it has been called. Test by calling the function multiple times."
   ]
  },
  {
   "cell_type": "code",
   "execution_count": 25,
   "id": "03ee7494",
   "metadata": {},
   "outputs": [
    {
     "name": "stdout",
     "output_type": "stream",
     "text": [
      "{'count': 1}\n",
      "{'count': 2}\n",
      "{'count': 3}\n"
     ]
    }
   ],
   "source": [
    "def c(count={\"count\":0}):\n",
    "    count[\"count\"]+=1\n",
    "    print(count)\n",
    "c()\n",
    "c()\n",
    "c()\n"
   ]
  },
  {
   "cell_type": "code",
   "execution_count": null,
   "id": "86436493",
   "metadata": {},
   "outputs": [],
   "source": []
  }
 ],
 "metadata": {
  "kernelspec": {
   "display_name": "Python 3",
   "language": "python",
   "name": "python3"
  },
  "language_info": {
   "codemirror_mode": {
    "name": "ipython",
    "version": 3
   },
   "file_extension": ".py",
   "mimetype": "text/x-python",
   "name": "python",
   "nbconvert_exporter": "python",
   "pygments_lexer": "ipython3",
   "version": "3.12.0"
  }
 },
 "nbformat": 4,
 "nbformat_minor": 5
}
